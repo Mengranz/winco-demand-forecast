{
 "cells": [
  {
   "cell_type": "code",
   "execution_count": 27,
   "metadata": {
    "collapsed": true
   },
   "outputs": [],
   "source": [
    "def ma(lead, alpha, past_order, inv, on_the_way):\n",
    "    return int(lead*alpha* np.mean(past_order)) - inv - on_the_way\n",
    "\n",
    "def maplus(lead, alpha, past_order, inv, on_the_way):\n",
    "    return int(lead  * (alpha*np.std(past_order) + np.mean(past_order))) - inv - on_the_way\n",
    "\n",
    "def arima(lead, alpha, past_order, inv, on_the_way):\n",
    "    p,d,q,t = alpha\n",
    "    from statsmodels.tsa.arima_model import ARIMA\n",
    "    model = ARIMA(past_order, order=(p,d,q))\n",
    "    model_fit = model.fit()\n",
    "    yhat, _, interval = model_fit.forecast(steps = lead, alpha = t)\n",
    "    upperbounds = list(map(lambda x: x[1], interval))\n",
    "    return sum(upperbounds) - inv - on_the_way\n",
    "\n",
    "def arima_beta(lead, alpha, past_order, inv, on_the_way):\n",
    "    p,d,q,t = alpha\n",
    "    from statsmodels.tsa.arima_model import ARIMA\n",
    "    model = ARIMA(past_order, order=(p,d,q))\n",
    "    model_fit = model.fit()\n",
    "    yhat, _, interval = model_fit.forecast(steps = lead, alpha = t)\n",
    "    upperbounds = list(map(lambda x: x[1], interval))\n",
    "    return sum(yhat[:-1]) + upperbounds[-1] - inv - on_the_way\n",
    "\n",
    "\n",
    "def garch(lead, alpha, past_order, inv, on_the_way):\n",
    "    from arch import arch_model\n",
    "    am = arch_model(past_order,p=1, o=1, q=1)\n",
    "    res = am.fit(update_freq=5, disp='off')\n",
    "    split_date = datetime(2010,1,1)\n",
    "    forecasts = res.forecast(horizon=1, start=split_date)\n",
    "    return int(lead*(forecasts.mean.values[0][0] +alpha* forecasts.variance.values[0][0])) - inv- on_the_way\n",
    "\n",
    "def sarimax(lead, alpha, past_order, inv, on_the_way):\n",
    "    # alpha = ((p,d,q),(p,d,q,t),alp)\n",
    "    from pandas import read_csv\n",
    "    from pandas import datetime\n",
    "    from matplotlib import pyplot\n",
    "    from  statsmodels.tsa.statespace.sarimax import SARIMAX\n",
    "    from sklearn.metrics import mean_squared_error\n",
    "    from math import sqrt\n",
    "    from datetime import timedelta\n",
    "    (order,seasonal_order,alp) = alpha\n",
    "    #print(past_order)\n",
    "    model = SARIMAX(past_order.values, order =order,seasonal_order=seasonal_order,\n",
    "                            enforce_stationarity=False,\n",
    "                            enforce_invertibility=False)\n",
    "    model_fit = model.fit()\n",
    "    #pred = model_fit.get_prediction(start=len(past_order),end = len(past_order) + lead-1 )\n",
    "    pred = model_fit.get_prediction(start=0,end =lead-1 )\n",
    "    \n",
    "    pred_ci = pred.conf_int(alpha = alp)\n",
    "    #print(pred_ci)\n",
    "    upperbounds = sum(pred_ci[\"upper y\"])\n",
    "    return int(upperbounds) - inv - on_the_way\n",
    "\n",
    "def sarimax_buffer(lead, alpha, past_order, inv, on_the_way):\n",
    "    # alpha = ((p,d,q),(p,d,q,t),alp,beta,gamma)\n",
    "    from pandas import read_csv\n",
    "    from pandas import datetime\n",
    "    from matplotlib import pyplot\n",
    "    from  statsmodels.tsa.statespace.sarimax import SARIMAX\n",
    "    from sklearn.metrics import mean_squared_error\n",
    "    from math import sqrt\n",
    "    from datetime import timedelta\n",
    "    \n",
    "    (order,seasonal_order,alp,beta,gamma) = alpha\n",
    "    model = SARIMAX(past_order.values, order =order,seasonal_order=seasonal_order,\n",
    "                            enforce_stationarity=False,\n",
    "                            enforce_invertibility=False)\n",
    "    model_fit = model.fit()\n",
    "    pred = model_fit.get_prediction(start=len(past_order),end = len(past_order) + lead-1 )\n",
    "    pred_mar = pred.conf_int(alpha = beta)\n",
    "    pred_ci = pred.conf_int(alpha = alp)\n",
    "    #print(pred_ci)\n",
    "    upperbounds = pred_ci[\"upper y\"]\n",
    "    mean = pred_mar[\"upper y\"]\n",
    "    buffer = sum(upperbounds-mean)/lead\n",
    "    return int(sum(mean)+gamma*buffer) - inv - on_the_way"
   ]
  },
  {
   "cell_type": "code",
   "execution_count": 7,
   "metadata": {
    "collapsed": true
   },
   "outputs": [],
   "source": [
    "def simulator_date(table, alpha, window, func, LEAD = 12, INIT_AMOUNT = 0, pr = True):\n",
    "    import numpy as np\n",
    "    import pandas as pd\n",
    "    from datetime import datetime\n",
    "    from datetime import timedelta\n",
    "    \n",
    "    LEAD_WEEK = timedelta(days = 7*LEAD)\n",
    "    \n",
    "    if INIT_AMOUNT == 0:\n",
    "        INIT_AMOUNT = np.mean(table[\"OrderQty\"]) * LEAD * 1.2  #buffer??\n",
    "    # Duplicated table\n",
    "    copy = table.copy()\n",
    "    copy[\"Inventory\"] = np.zeros(copy.shape[0])\n",
    "    copy[\"Inventory\"].iloc[window] = INIT_AMOUNT\n",
    "    copy[\"ShippedQty\"] = np.zeros(copy.shape[0])\n",
    "    copy[\"ArrivalQty\"] = np.zeros(copy.shape[0])\n",
    "    copy[\"RefillQty\"] = np.zeros(copy.shape[0])\n",
    "    \n",
    "    # Initialization\n",
    "    refill_schedules = []\n",
    "    on_the_way = 0\n",
    "    inv = INIT_AMOUNT\n",
    "    results = list()\n",
    "    for day in copy.index[window:]:\n",
    "        # 1. Arrival\n",
    "        if refill_schedules != []:\n",
    "            if refill_schedules[0][0]<= day:\n",
    "                inv += refill_schedules[0][1]\n",
    "                copy.loc[day,\"ArrivalQty\"] = refill_schedules[0][1]\n",
    "                on_the_way -= refill_schedules[0][1]\n",
    "                refill_schedules.pop(0)\n",
    "\n",
    "        # 2. Order\n",
    "        order= copy.loc[ day, \"OrderQty\"]\n",
    "\n",
    "        # 3. Ship\n",
    "        if inv < order:\n",
    "            copy.loc[day,\"ShippedQty\"] = inv\n",
    "            inv = 0\n",
    "        else:\n",
    "            copy.loc[ day, \"ShippedQty\"] = order\n",
    "            inv -= order\n",
    "\n",
    "        # 4. Refill\n",
    "        past_order = copy[\"OrderQty\"][day-timedelta(days = 7*window):day]\n",
    "        refill = func(LEAD, alpha, past_order, inv, on_the_way)\n",
    "        if refill > 0 :\n",
    "            on_the_way += refill\n",
    "            copy.loc[day,\"RefillQty\"] = refill\n",
    "            refill_schedules.append((day+LEAD_WEEK,refill) )\n",
    "        \n",
    "        # 5. Inventory - audit\n",
    "        copy.loc[ day,\"Inventory\"] = inv\n",
    "        \n",
    "    # Report :\n",
    "    avg = np.mean(table[\"OrderQty\"])\n",
    "    std = np.std(table[\"OrderQty\"])\n",
    "    fulfill = np.mean(copy[\"ShippedQty\"][window:]/copy[\"OrderQty\"][window:])\n",
    "    rate = sum(copy[\"ShippedQty\"][window:])/sum(copy[\"OrderQty\"][window:])\n",
    "    maxInv = max(copy[\"Inventory\"][window+LEAD:])\n",
    "    avgInv = np.mean(copy[\"Inventory\"][window+LEAD:])\n",
    "    if pr:\n",
    "        print(\"Entering simulator with parameter alpha: %s, window: %d, function: %s \"%( alpha, window, func.__name__))\n",
    "        print(\"Average Order Qty: %d, Standard deviation: %.2f\"%(avg, std ))\n",
    "        print(\"Fulfillment rate: %.3f\" %(fulfill))\n",
    "        print(\"Average rate: %.3f\" %(rate))\n",
    "        print(\"Maximum Inventory occupation: %d\" %maxInv)\n",
    "        print(\"Average Inventory occupation: %.0f\"% avgInv)\n",
    "    return avg, std, rate, maxInv, avgInv#, copy[\"Inventory\"]"
   ]
  },
  {
   "cell_type": "code",
   "execution_count": 3,
   "metadata": {
    "collapsed": true
   },
   "outputs": [],
   "source": [
    "import pandas as pd\n",
    "import numpy as np\n",
    "from datetime import datetime\n",
    "def parser(x):\n",
    "    return datetime.strptime(x,\"%Y-%m-%d\")\n",
    "data = pd.read_csv(\"itemByWeek\\\\10239ByWeek.csv\", parse_dates=[0], index_col=0, date_parser=parser)\n",
    "data[\"OrderQty\"] = [float(x) for x in data[\"OrderQty\"]]"
   ]
  },
  {
   "cell_type": "code",
   "execution_count": 28,
   "metadata": {},
   "outputs": [
    {
     "name": "stdout",
     "output_type": "stream",
     "text": [
      "Entering simulator with parameter alpha: ((2, 1, 2), (1, 1, 1, 4), 0.3), window: 52, function: sarimax \n",
      "Average Order Qty: 1157, Standard deviation: 432.36\n",
      "Fulfillment rate: 1.000\n",
      "Maximum Inventory occupation: 24009\n",
      "Average Inventory occupation: 15731\n"
     ]
    },
    {
     "data": {
      "text/plain": [
       "(1157.2115384615386, 432.3649041951536, 1.0, 24009.0, 15730.945652173914)"
      ]
     },
     "execution_count": 28,
     "metadata": {},
     "output_type": "execute_result"
    }
   ],
   "source": [
    "import warnings\n",
    "warnings.filterwarnings(\"ignore\")\n",
    "simulator_date(data, ((2,1,2),(1,1,1,4),0.3),52,sarimax)"
   ]
  },
  {
   "cell_type": "code",
   "execution_count": 13,
   "metadata": {},
   "outputs": [
    {
     "data": {
      "text/plain": [
       "0.6791666666666667"
      ]
     },
     "execution_count": 13,
     "metadata": {},
     "output_type": "execute_result"
    }
   ],
   "source": [
    "import pandas as pd\n",
    "import numpy as np\n",
    "a = pd.Series(data=[1,2,3,4])\n",
    "b = pd.Series(data=[2,3,4,5])\n",
    "np.mean(a/b)\n"
   ]
  },
  {
   "cell_type": "code",
   "execution_count": 11,
   "metadata": {},
   "outputs": [
    {
     "data": {
      "text/plain": [
       "0.7142857142857143"
      ]
     },
     "execution_count": 11,
     "metadata": {},
     "output_type": "execute_result"
    }
   ],
   "source": [
    "sum(a)/sum(b)"
   ]
  },
  {
   "cell_type": "code",
   "execution_count": 46,
   "metadata": {},
   "outputs": [
    {
     "name": "stdout",
     "output_type": "stream",
     "text": [
      "Entering simulator with parameter alpha: ((4, 1, 0), (1, 1, 1, 4), 0.3), window: 52, function: sarimax \n",
      "Average Order Qty: 1157, Standard deviation: 432.36\n",
      "Fulfillment rate: 1.000\n",
      "Maximum Inventory occupation: 22856\n",
      "Average Inventory occupation: 16287\n"
     ]
    },
    {
     "data": {
      "text/plain": [
       "(1157.2115384615386, 432.3649041951536, 1.0, 22856.0, 16287.282608695652)"
      ]
     },
     "execution_count": 46,
     "metadata": {},
     "output_type": "execute_result"
    }
   ],
   "source": [
    "simulator_date(data, ((4,1,0),(1,1,1,4),0.3),52,sarimax)"
   ]
  },
  {
   "cell_type": "code",
   "execution_count": 50,
   "metadata": {},
   "outputs": [
    {
     "name": "stdout",
     "output_type": "stream",
     "text": [
      "Entering simulator with parameter alpha: ((4, 1, 2), (1, 1, 1, 4), 0.1, 0.5, 1.5), window: 52, function: sarimax_buffer \n",
      "Average Order Qty: 1157, Standard deviation: 432.36\n",
      "Fulfillment rate: 0.963\n",
      "Maximum Inventory occupation: 20359\n",
      "Average Inventory occupation: 6373\n"
     ]
    },
    {
     "data": {
      "text/plain": [
       "(1157.2115384615386,\n",
       " 432.3649041951536,\n",
       " 0.9633032376384284,\n",
       " 20359.0,\n",
       " 6373.280936454849)"
      ]
     },
     "execution_count": 50,
     "metadata": {},
     "output_type": "execute_result"
    }
   ],
   "source": [
    "simulator_date(data, ((4,1,2),(1,1,1,4),0.1,0.5,1.5),52,sarimax_buffer)"
   ]
  },
  {
   "cell_type": "code",
   "execution_count": 45,
   "metadata": {},
   "outputs": [
    {
     "name": "stdout",
     "output_type": "stream",
     "text": [
      "Entering simulator with parameter alpha: ((4, 1, 0), (1, 1, 1, 4), 0.05, 0.5, 1.5), window: 52, function: sarimax_buffer \n",
      "Average Order Qty: 1157, Standard deviation: 432.36\n",
      "Fulfillment rate: 0.985\n",
      "Maximum Inventory occupation: 16741\n",
      "Average Inventory occupation: 6419\n"
     ]
    },
    {
     "data": {
      "text/plain": [
       "(1157.2115384615386,\n",
       " 432.3649041951536,\n",
       " 0.984949213514848,\n",
       " 16741.0,\n",
       " 6419.413043478261)"
      ]
     },
     "execution_count": 45,
     "metadata": {},
     "output_type": "execute_result"
    }
   ],
   "source": [
    "simulator_date(data, ((4,1,0),(1,1,1,4),0.05,0.5,1.5),52,sarimax_buffer)"
   ]
  },
  {
   "cell_type": "code",
   "execution_count": 31,
   "metadata": {},
   "outputs": [
    {
     "name": "stdout",
     "output_type": "stream",
     "text": [
      "Entering simulator with parameter alpha: (4, 1, 0, 0.3), window: 50, function: arima \n",
      "Average Order Qty: 1157, Standard deviation: 432.36\n",
      "Fulfillment rate: 0.992\n",
      "Maximum Inventory occupation: 15221\n",
      "Average Inventory occupation: 6944\n"
     ]
    },
    {
     "data": {
      "text/plain": [
       "(1157.2115384615386,\n",
       " 432.3649041951536,\n",
       " 0.991941209807737,\n",
       " 15221.751709283968,\n",
       " 6944.3288956167735)"
      ]
     },
     "execution_count": 31,
     "metadata": {},
     "output_type": "execute_result"
    }
   ],
   "source": [
    "simulator_date(data, (4,1,0,0.30), 50, arima)"
   ]
  },
  {
   "cell_type": "code",
   "execution_count": 40,
   "metadata": {},
   "outputs": [
    {
     "name": "stdout",
     "output_type": "stream",
     "text": [
      "Entering simulator with parameter alpha: 1.3, window: 26, function: ma \n",
      "Average Order Qty: 1157, Standard deviation: 432.36\n",
      "Fulfillment rate: 0.993\n",
      "Maximum Inventory occupation: 8808\n",
      "Average Inventory occupation: 5125\n"
     ]
    },
    {
     "data": {
      "text/plain": [
       "(1157.2115384615386,\n",
       " 432.3649041951536,\n",
       " 0.9933265170774842,\n",
       " 8808.0,\n",
       " 5125.169491525424)"
      ]
     },
     "execution_count": 40,
     "metadata": {},
     "output_type": "execute_result"
    }
   ],
   "source": [
    "simulator_date(data, 1.3, 26, ma)"
   ]
  },
  {
   "cell_type": "code",
   "execution_count": 36,
   "metadata": {},
   "outputs": [
    {
     "name": "stdout",
     "output_type": "stream",
     "text": [
      "Entering simulator with parameter alpha: 0.8, window: 50, function: maplus \n",
      "Average Order Qty: 1157, Standard deviation: 432.36\n",
      "Fulfillment rate: 0.997\n",
      "Maximum Inventory occupation: 8661\n",
      "Average Inventory occupation: 4709\n"
     ]
    },
    {
     "data": {
      "text/plain": [
       "(1157.2115384615386,\n",
       " 432.3649041951536,\n",
       " 0.9974915013796742,\n",
       " 8661.0,\n",
       " 4708.712765957447)"
      ]
     },
     "execution_count": 36,
     "metadata": {},
     "output_type": "execute_result"
    }
   ],
   "source": [
    "simulator_date(data, 0.8, 50, maplus)"
   ]
  }
 ],
 "metadata": {
  "kernelspec": {
   "display_name": "Python 3",
   "language": "python",
   "name": "python3"
  },
  "language_info": {
   "codemirror_mode": {
    "name": "ipython",
    "version": 3
   },
   "file_extension": ".py",
   "mimetype": "text/x-python",
   "name": "python",
   "nbconvert_exporter": "python",
   "pygments_lexer": "ipython3",
   "version": "3.6.3"
  },
  "toc": {
   "nav_menu": {},
   "number_sections": true,
   "sideBar": true,
   "skip_h1_title": false,
   "toc_cell": false,
   "toc_position": {},
   "toc_section_display": "block",
   "toc_window_display": false
  },
  "varInspector": {
   "cols": {
    "lenName": 16,
    "lenType": 16,
    "lenVar": 40
   },
   "kernels_config": {
    "python": {
     "delete_cmd_postfix": "",
     "delete_cmd_prefix": "del ",
     "library": "var_list.py",
     "varRefreshCmd": "print(var_dic_list())"
    },
    "r": {
     "delete_cmd_postfix": ") ",
     "delete_cmd_prefix": "rm(",
     "library": "var_list.r",
     "varRefreshCmd": "cat(var_dic_list()) "
    }
   },
   "types_to_exclude": [
    "module",
    "function",
    "builtin_function_or_method",
    "instance",
    "_Feature"
   ],
   "window_display": false
  }
 },
 "nbformat": 4,
 "nbformat_minor": 2
}
